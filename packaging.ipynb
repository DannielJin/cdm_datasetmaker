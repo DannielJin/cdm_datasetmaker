{
 "cells": [
  {
   "cell_type": "code",
   "execution_count": 1,
   "metadata": {},
   "outputs": [
    {
     "name": "stdout",
     "output_type": "stream",
     "text": [
      "Uninstalling cdm-datasetmaker-1.0:\n",
      "  Successfully uninstalled cdm-datasetmaker-1.0\n",
      "\u001b[33mYou are using pip version 18.0, however version 18.1 is available.\n",
      "You should consider upgrading via the 'pip install --upgrade pip' command.\u001b[0m\n"
     ]
    }
   ],
   "source": [
    "! pip3 uninstall dist/* -y"
   ]
  },
  {
   "cell_type": "code",
   "execution_count": 2,
   "metadata": {},
   "outputs": [
    {
     "name": "stdout",
     "output_type": "stream",
     "text": [
      "Overwriting setup.py\n"
     ]
    }
   ],
   "source": [
    "%%writefile setup.py\n",
    "from setuptools import setup, find_packages\n",
    "\n",
    "setup(\n",
    "    name             = 'cdm_datasetmaker',\n",
    "    version          = '1.0',\n",
    "    description      = 'Create datasets from tables in OMOP_CDM DB ',\n",
    "    long_description = open('README.md').read(),\n",
    "    author           = 'Sanghyung Jin, Yourim Lee, Rae Woong Park',\n",
    "    author_email     = 'jsh90612@gmail.com, urimeeee.e.gmail.com, rwpark99@gmail.com',\n",
    "    url              = '',\n",
    "    download_url     = '',\n",
    "    install_requires = ['numpy', 'pandas', 'sklearn', 'pymssql', 'scipy'],\n",
    "    packages         = find_packages(exclude=[\"test*\"]),\n",
    "    keywords         = ['medical', 'sequence', 'dataset','OMOP', 'CDM'],\n",
    "    python_requires  = '>=3',\n",
    "    package_data     = {},\n",
    "    zip_safe=False,\n",
    "    classifiers      = [\n",
    "        'Programming Language :: Python :: 3',\n",
    "        'Programming Language :: Python :: 3.2',\n",
    "        'Programming Language :: Python :: 3.3',\n",
    "        'Programming Language :: Python :: 3.4',\n",
    "        'Programming Language :: Python :: 3.5',\n",
    "        'Programming Language :: Python :: 3.6'\n",
    "    ]\n",
    ")"
   ]
  },
  {
   "cell_type": "code",
   "execution_count": 3,
   "metadata": {},
   "outputs": [
    {
     "name": "stdout",
     "output_type": "stream",
     "text": [
      "Overwriting setup.cfg\n"
     ]
    }
   ],
   "source": [
    "%%writefile setup.cfg\n",
    "[metadata]\n",
    "description-file = README.md"
   ]
  },
  {
   "cell_type": "code",
   "execution_count": 4,
   "metadata": {},
   "outputs": [
    {
     "name": "stdout",
     "output_type": "stream",
     "text": [
      "Overwriting MANIFEST.in\n"
     ]
    }
   ],
   "source": [
    "%%writefile MANIFEST.in\n",
    "#include LICENSE\n",
    "include README.md\n",
    "#include requirements.txt"
   ]
  },
  {
   "cell_type": "code",
   "execution_count": 5,
   "metadata": {},
   "outputs": [
    {
     "name": "stdout",
     "output_type": "stream",
     "text": [
      "running test\n",
      "running egg_info\n",
      "writing cdm_datasetmaker.egg-info/PKG-INFO\n",
      "writing dependency_links to cdm_datasetmaker.egg-info/dependency_links.txt\n",
      "writing requirements to cdm_datasetmaker.egg-info/requires.txt\n",
      "writing top-level names to cdm_datasetmaker.egg-info/top_level.txt\n",
      "reading manifest file 'cdm_datasetmaker.egg-info/SOURCES.txt'\n",
      "reading manifest template 'MANIFEST.in'\n",
      "writing manifest file 'cdm_datasetmaker.egg-info/SOURCES.txt'\n",
      "running build_ext\n",
      "\n",
      "----------------------------------------------------------------------\n",
      "Ran 0 tests in 0.000s\n",
      "\n",
      "OK\n"
     ]
    }
   ],
   "source": [
    "! python3 setup.py test"
   ]
  },
  {
   "cell_type": "code",
   "execution_count": 6,
   "metadata": {
    "scrolled": true
   },
   "outputs": [
    {
     "name": "stdout",
     "output_type": "stream",
     "text": [
      "running bdist_wheel\n",
      "running build\n",
      "running build_py\n",
      "installing to build/bdist.macosx-10.9-x86_64/wheel\n",
      "running install\n",
      "running install_lib\n",
      "creating build/bdist.macosx-10.9-x86_64\n",
      "creating build/bdist.macosx-10.9-x86_64/wheel\n",
      "creating build/bdist.macosx-10.9-x86_64/wheel/cdm_datasetmaker\n",
      "copying build/lib/cdm_datasetmaker/table2rawseq.py -> build/bdist.macosx-10.9-x86_64/wheel/cdm_datasetmaker\n",
      "copying build/lib/cdm_datasetmaker/cohort_tables.py -> build/bdist.macosx-10.9-x86_64/wheel/cdm_datasetmaker\n",
      "copying build/lib/cdm_datasetmaker/__init__.py -> build/bdist.macosx-10.9-x86_64/wheel/cdm_datasetmaker\n",
      "copying build/lib/cdm_datasetmaker/rawseq2multihot.py -> build/bdist.macosx-10.9-x86_64/wheel/cdm_datasetmaker\n",
      "copying build/lib/cdm_datasetmaker/utils.py -> build/bdist.macosx-10.9-x86_64/wheel/cdm_datasetmaker\n",
      "copying build/lib/cdm_datasetmaker/pipeline.py -> build/bdist.macosx-10.9-x86_64/wheel/cdm_datasetmaker\n",
      "copying build/lib/cdm_datasetmaker/multihot2datasets.py -> build/bdist.macosx-10.9-x86_64/wheel/cdm_datasetmaker\n",
      "running install_egg_info\n",
      "running egg_info\n",
      "writing cdm_datasetmaker.egg-info/PKG-INFO\n",
      "writing dependency_links to cdm_datasetmaker.egg-info/dependency_links.txt\n",
      "writing requirements to cdm_datasetmaker.egg-info/requires.txt\n",
      "writing top-level names to cdm_datasetmaker.egg-info/top_level.txt\n",
      "reading manifest file 'cdm_datasetmaker.egg-info/SOURCES.txt'\n",
      "reading manifest template 'MANIFEST.in'\n",
      "writing manifest file 'cdm_datasetmaker.egg-info/SOURCES.txt'\n",
      "Copying cdm_datasetmaker.egg-info to build/bdist.macosx-10.9-x86_64/wheel/cdm_datasetmaker-1.0-py3.6.egg-info\n",
      "running install_scripts\n",
      "creating build/bdist.macosx-10.9-x86_64/wheel/cdm_datasetmaker-1.0.dist-info/WHEEL\n",
      "creating '/Users/danniel_jin/FILES/SCRIPTS/PROJECTS/GIT/cdm_datasetmaker/dist/cdm_datasetmaker-1.0-py3-none-any.whl' and adding '.' to it\n",
      "adding 'cdm_datasetmaker/__init__.py'\n",
      "adding 'cdm_datasetmaker/cohort_tables.py'\n",
      "adding 'cdm_datasetmaker/multihot2datasets.py'\n",
      "adding 'cdm_datasetmaker/pipeline.py'\n",
      "adding 'cdm_datasetmaker/rawseq2multihot.py'\n",
      "adding 'cdm_datasetmaker/table2rawseq.py'\n",
      "adding 'cdm_datasetmaker/utils.py'\n",
      "adding 'cdm_datasetmaker-1.0.dist-info/top_level.txt'\n",
      "adding 'cdm_datasetmaker-1.0.dist-info/WHEEL'\n",
      "adding 'cdm_datasetmaker-1.0.dist-info/METADATA'\n",
      "adding 'cdm_datasetmaker-1.0.dist-info/RECORD'\n",
      "removing build/bdist.macosx-10.9-x86_64/wheel\n"
     ]
    }
   ],
   "source": [
    "! python3 setup.py bdist_wheel"
   ]
  },
  {
   "cell_type": "code",
   "execution_count": 7,
   "metadata": {
    "scrolled": true
   },
   "outputs": [
    {
     "name": "stdout",
     "output_type": "stream",
     "text": [
      "Processing ./dist/cdm_datasetmaker-1.0-py3-none-any.whl\n",
      "Requirement already satisfied: pymssql in /Library/Frameworks/Python.framework/Versions/3.6/lib/python3.6/site-packages (from cdm-datasetmaker==1.0) (2.2.0.dev0)\n",
      "Requirement already satisfied: scipy in /Library/Frameworks/Python.framework/Versions/3.6/lib/python3.6/site-packages (from cdm-datasetmaker==1.0) (1.1.0)\n",
      "Requirement already satisfied: pandas in /Library/Frameworks/Python.framework/Versions/3.6/lib/python3.6/site-packages (from cdm-datasetmaker==1.0) (0.23.3)\n",
      "Requirement already satisfied: numpy in /Library/Frameworks/Python.framework/Versions/3.6/lib/python3.6/site-packages (from cdm-datasetmaker==1.0) (1.14.5)\n",
      "Requirement already satisfied: sklearn in /Library/Frameworks/Python.framework/Versions/3.6/lib/python3.6/site-packages (from cdm-datasetmaker==1.0) (0.0)\n",
      "Requirement already satisfied: pytz>=2011k in /Library/Frameworks/Python.framework/Versions/3.6/lib/python3.6/site-packages (from pandas->cdm-datasetmaker==1.0) (2018.5)\n",
      "Requirement already satisfied: python-dateutil>=2.5.0 in /Library/Frameworks/Python.framework/Versions/3.6/lib/python3.6/site-packages (from pandas->cdm-datasetmaker==1.0) (2.7.3)\n",
      "Requirement already satisfied: scikit-learn in /Library/Frameworks/Python.framework/Versions/3.6/lib/python3.6/site-packages (from sklearn->cdm-datasetmaker==1.0) (0.19.1)\n",
      "Requirement already satisfied: six>=1.5 in /Library/Frameworks/Python.framework/Versions/3.6/lib/python3.6/site-packages (from python-dateutil>=2.5.0->pandas->cdm-datasetmaker==1.0) (1.11.0)\n",
      "Installing collected packages: cdm-datasetmaker\n",
      "Successfully installed cdm-datasetmaker-1.0\n",
      "\u001b[33mYou are using pip version 18.0, however version 18.1 is available.\n",
      "You should consider upgrading via the 'pip install --upgrade pip' command.\u001b[0m\n"
     ]
    }
   ],
   "source": [
    "! pip3 install dist/*"
   ]
  },
  {
   "cell_type": "code",
   "execution_count": null,
   "metadata": {},
   "outputs": [],
   "source": []
  },
  {
   "cell_type": "code",
   "execution_count": null,
   "metadata": {},
   "outputs": [],
   "source": []
  },
  {
   "cell_type": "code",
   "execution_count": null,
   "metadata": {},
   "outputs": [],
   "source": []
  },
  {
   "cell_type": "code",
   "execution_count": null,
   "metadata": {},
   "outputs": [],
   "source": []
  },
  {
   "cell_type": "code",
   "execution_count": null,
   "metadata": {},
   "outputs": [],
   "source": []
  }
 ],
 "metadata": {
  "kernelspec": {
   "display_name": "Python 3",
   "language": "python",
   "name": "python3"
  },
  "language_info": {
   "codemirror_mode": {
    "name": "ipython",
    "version": 3
   },
   "file_extension": ".py",
   "mimetype": "text/x-python",
   "name": "python",
   "nbconvert_exporter": "python",
   "pygments_lexer": "ipython3",
   "version": "3.6.6"
  }
 },
 "nbformat": 4,
 "nbformat_minor": 2
}
